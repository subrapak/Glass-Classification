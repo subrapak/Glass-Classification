{
 "cells": [
  {
   "cell_type": "markdown",
   "metadata": {
    "scrolled": true
   },
   "source": [
    "# KNN Classification and Logistic Regression to classify glass types"
   ]
  },
  {
   "cell_type": "markdown",
   "metadata": {},
   "source": [
    "This notebook contains two main techniques for the classification of glass samples from a Kaggle dataset: https://www.kaggle.com/uciml/glass. We take a multidimensional approach with K Nearest Neighbours classfication, and later on build a logistic regression model from scratch for univariate classification. This is then compared to scikit-learn's prebuilt logistic regression implementation, and accuracies are compared."
   ]
  },
  {
   "cell_type": "markdown",
   "metadata": {},
   "source": [
    "# 1. KNN Classification"
   ]
  },
  {
   "cell_type": "markdown",
   "metadata": {},
   "source": [
    "Initially, we load the data into the notebook:"
   ]
  },
  {
   "cell_type": "code",
   "execution_count": 20,
   "metadata": {},
   "outputs": [
    {
     "data": {
      "text/html": [
       "<div>\n",
       "<style scoped>\n",
       "    .dataframe tbody tr th:only-of-type {\n",
       "        vertical-align: middle;\n",
       "    }\n",
       "\n",
       "    .dataframe tbody tr th {\n",
       "        vertical-align: top;\n",
       "    }\n",
       "\n",
       "    .dataframe thead th {\n",
       "        text-align: right;\n",
       "    }\n",
       "</style>\n",
       "<table border=\"1\" class=\"dataframe\">\n",
       "  <thead>\n",
       "    <tr style=\"text-align: right;\">\n",
       "      <th></th>\n",
       "      <th>RI</th>\n",
       "      <th>Na</th>\n",
       "      <th>Mg</th>\n",
       "      <th>Al</th>\n",
       "      <th>Si</th>\n",
       "      <th>K</th>\n",
       "      <th>Ca</th>\n",
       "      <th>Ba</th>\n",
       "      <th>Fe</th>\n",
       "      <th>Type</th>\n",
       "    </tr>\n",
       "  </thead>\n",
       "  <tbody>\n",
       "    <tr>\n",
       "      <th>21</th>\n",
       "      <td>1.51966</td>\n",
       "      <td>14.77</td>\n",
       "      <td>3.75</td>\n",
       "      <td>0.29</td>\n",
       "      <td>72.02</td>\n",
       "      <td>0.03</td>\n",
       "      <td>9.00</td>\n",
       "      <td>0.0</td>\n",
       "      <td>0.00</td>\n",
       "      <td>1</td>\n",
       "    </tr>\n",
       "    <tr>\n",
       "      <th>184</th>\n",
       "      <td>1.51115</td>\n",
       "      <td>17.38</td>\n",
       "      <td>0.00</td>\n",
       "      <td>0.34</td>\n",
       "      <td>75.41</td>\n",
       "      <td>0.00</td>\n",
       "      <td>6.65</td>\n",
       "      <td>0.0</td>\n",
       "      <td>0.00</td>\n",
       "      <td>6</td>\n",
       "    </tr>\n",
       "    <tr>\n",
       "      <th>39</th>\n",
       "      <td>1.52213</td>\n",
       "      <td>14.21</td>\n",
       "      <td>3.82</td>\n",
       "      <td>0.47</td>\n",
       "      <td>71.77</td>\n",
       "      <td>0.11</td>\n",
       "      <td>9.57</td>\n",
       "      <td>0.0</td>\n",
       "      <td>0.00</td>\n",
       "      <td>1</td>\n",
       "    </tr>\n",
       "    <tr>\n",
       "      <th>38</th>\n",
       "      <td>1.52213</td>\n",
       "      <td>14.21</td>\n",
       "      <td>3.82</td>\n",
       "      <td>0.47</td>\n",
       "      <td>71.77</td>\n",
       "      <td>0.11</td>\n",
       "      <td>9.57</td>\n",
       "      <td>0.0</td>\n",
       "      <td>0.00</td>\n",
       "      <td>1</td>\n",
       "    </tr>\n",
       "    <tr>\n",
       "      <th>50</th>\n",
       "      <td>1.52320</td>\n",
       "      <td>13.72</td>\n",
       "      <td>3.72</td>\n",
       "      <td>0.51</td>\n",
       "      <td>71.75</td>\n",
       "      <td>0.09</td>\n",
       "      <td>10.06</td>\n",
       "      <td>0.0</td>\n",
       "      <td>0.16</td>\n",
       "      <td>1</td>\n",
       "    </tr>\n",
       "  </tbody>\n",
       "</table>\n",
       "</div>"
      ],
      "text/plain": [
       "          RI     Na    Mg    Al     Si     K     Ca   Ba    Fe  Type\n",
       "21   1.51966  14.77  3.75  0.29  72.02  0.03   9.00  0.0  0.00     1\n",
       "184  1.51115  17.38  0.00  0.34  75.41  0.00   6.65  0.0  0.00     6\n",
       "39   1.52213  14.21  3.82  0.47  71.77  0.11   9.57  0.0  0.00     1\n",
       "38   1.52213  14.21  3.82  0.47  71.77  0.11   9.57  0.0  0.00     1\n",
       "50   1.52320  13.72  3.72  0.51  71.75  0.09  10.06  0.0  0.16     1"
      ]
     },
     "execution_count": 20,
     "metadata": {},
     "output_type": "execute_result"
    }
   ],
   "source": [
    "import pandas as pd\n",
    "import numpy as np\n",
    "from sklearn.linear_model import LogisticRegression\n",
    "from sklearn.metrics import mean_squared_error, r2_score\n",
    "\n",
    "dataset = pd.read_csv(\"glass.csv\") # importing the data from the .csv file\n",
    "dataset.sort_values('Al', inplace=True) # sort by ascending \"Al\" values\n",
    "dataset.head() # print the first 5 rows"
   ]
  },
  {
   "cell_type": "markdown",
   "metadata": {},
   "source": [
    "First we write a function ```distance(p, data, D)``` that returns an array of distances between the point ```p``` and each point in the dataset ```data```, where the array is a ```D```-dimensional Euclidean distance."
   ]
  },
  {
   "cell_type": "code",
   "execution_count": 21,
   "metadata": {},
   "outputs": [
    {
     "name": "stdout",
     "output_type": "stream",
     "text": [
      "[[4.795831523312719, 1], [5.0990195135927845, 0], [5.477225575051661, 3], [6.164414002968976, 2]]\n"
     ]
    }
   ],
   "source": [
    "def euclidean(a,b):\n",
    "    if len(a) != len(b):\n",
    "        return \"Lengths are unequal\"\n",
    "    else:\n",
    "        tot = 0\n",
    "    for i in range(len(a)):\n",
    "        tot += (b[i] - a[i])**2\n",
    "    ans = np.sqrt(tot)\n",
    "    return ans\n",
    "    \n",
    "#ans = euclidean([3,4,4],[0,0])\n",
    "#print(ans)\n",
    "\n",
    "#feed one point which is an array, and data which is a matrix with one row per data point and one column per attribute\n",
    "def distance(p, data, D):\n",
    "    values = []\n",
    "    text = \"\"\n",
    "    for i in range(len(data)):\n",
    "        if len(data[i]) != len(p):\n",
    "            text = \"Lengths are unequal for point\"+str(i+1)\n",
    "            return text\n",
    "        elif (len(data[i]) != D) or (len(p) != D):\n",
    "            text = \"D metric is different for point\"+str(i+1)\n",
    "            return text\n",
    "        else:\n",
    "            values.append([euclidean(p,data[i]),i]) #returns the Euclidean distance and index to data point i\n",
    "        values = sorted(values)\n",
    "    return values\n",
    "\n",
    "p = [1,2,3,4]\n",
    "data = [[0,2,0,0],[0,0,0,1],[4,0,0,0],[0,0,0,0]]\n",
    "\n",
    "ans = distance(p, data, 4)\n",
    "print(ans)\n",
    "#print(np.column_stack([p,data])) "
   ]
  },
  {
   "cell_type": "markdown",
   "metadata": {},
   "source": [
    "Split the data into a training set and a test set at a ratio of 80:20."
   ]
  },
  {
   "cell_type": "code",
   "execution_count": 22,
   "metadata": {},
   "outputs": [],
   "source": [
    "training_data = dataset.sample(frac = 0.8)\n",
    "test_data = dataset.sample(frac = 0.2)"
   ]
  },
  {
   "cell_type": "markdown",
   "metadata": {},
   "source": [
    "We can plot the content of different elements against each other. As a trail, we plot the \"Mg\" training values against the \"Si\" training values. Points with non-zero values are red, and zeroes are black. The test points are in blue."
   ]
  },
  {
   "cell_type": "code",
   "execution_count": 23,
   "metadata": {
    "scrolled": false
   },
   "outputs": [
    {
     "data": {
      "image/png": "[encoded data removed]",
      "text/plain": [
       "<Figure size 432x288 with 1 Axes>"
      ]
     },
     "metadata": {
      "needs_background": "light"
     },
     "output_type": "display_data"
    },
    {
     "name": "stdout",
     "output_type": "stream",
     "text": [
      "*******TRAINING*******\n",
      "          RI     Na    Mg    Al     Si     K     Ca    Ba    Fe  Type\n",
      "80   1.51592  12.86  3.52  2.12  72.66  0.69   7.97  0.00  0.00     2\n",
      "95   1.51860  13.36  3.43  1.43  72.26  0.51   8.60  0.00  0.00     2\n",
      "101  1.51730  12.35  2.72  1.63  72.87  0.70   9.23  0.00  0.00     2\n",
      "200  1.51508  15.15  0.00  2.25  73.50  0.00   8.34  0.63  0.00     7\n",
      "55   1.51769  12.45  2.71  1.29  73.70  0.56   9.06  0.00  0.24     1\n",
      "151  1.52127  14.32  3.90  0.83  71.50  0.00   9.49  0.00  0.00     3\n",
      "112  1.52777  12.64  0.00  0.67  72.02  0.06  14.40  0.00  0.00     2\n",
      "86   1.51569  13.24  3.49  1.47  73.25  0.38   8.03  0.00  0.00     2\n",
      "14   1.51763  12.61  3.59  1.31  73.29  0.58   8.50  0.00  0.00     1\n",
      "179  1.51852  14.09  2.19  1.66  72.67  0.00   9.32  0.00  0.00     6\n",
      "75   1.51590  13.02  3.58  1.51  73.12  0.69   7.96  0.00  0.00     2\n",
      "210  1.51685  14.92  0.00  1.99  73.06  0.00   8.40  1.59  0.00     7\n",
      "191  1.51602  14.85  0.00  2.38  73.28  0.00   8.76  0.64  0.09     7\n",
      "137  1.51711  12.89  3.62  1.57  72.96  0.61   8.11  0.00  0.00     2\n",
      "194  1.51683  14.56  0.00  1.98  73.29  0.00   8.52  1.57  0.07     7\n",
      "153  1.51610  13.42  3.40  1.22  72.69  0.59   8.32  0.00  0.00     3\n",
      "21   1.51966  14.77  3.75  0.29  72.02  0.03   9.00  0.00  0.00     1\n",
      "31   1.51747  12.84  3.50  1.14  73.27  0.56   8.55  0.00  0.00     1\n",
      "148  1.51670  13.24  3.57  1.38  72.70  0.56   8.44  0.00  0.10     3\n",
      "107  1.53393  12.30  0.00  1.00  70.16  0.12  16.19  0.00  0.24     2\n",
      "185  1.51131  13.69  3.20  1.81  72.81  1.76   5.43  1.19  0.00     7\n",
      "19   1.51735  13.02  3.54  1.69  72.73  0.54   8.44  0.00  0.07     1\n",
      "18   1.51911  13.90  3.73  1.18  72.12  0.06   8.89  0.00  0.00     1\n",
      "212  1.51651  14.38  0.00  1.94  73.61  0.00   8.48  1.57  0.00     7\n",
      "159  1.51796  13.50  3.36  1.63  71.94  0.57   8.81  0.00  0.09     3\n",
      "138  1.51674  12.79  3.52  1.54  73.36  0.66   7.90  0.00  0.00     2\n",
      "199  1.51609  15.01  0.00  2.51  73.05  0.05   8.83  0.53  0.00     7\n",
      "105  1.52475  11.45  0.00  1.88  72.19  0.81  13.24  0.00  0.34     2\n",
      "28   1.51768  12.56  3.52  1.43  73.15  0.57   8.54  0.00  0.00     1\n",
      "204  1.51617  14.95  0.00  2.27  73.30  0.00   8.71  0.67  0.00     7\n",
      "..       ...    ...   ...   ...    ...   ...    ...   ...   ...   ...\n",
      "197  1.51727  14.70  0.00  2.34  73.28  0.00   8.95  0.66  0.00     7\n",
      "161  1.51934  13.64  3.54  0.75  72.65  0.16   8.89  0.15  0.24     3\n",
      "16   1.51784  12.68  3.67  1.16  73.11  0.61   8.70  0.00  0.00     1\n",
      "51   1.51926  13.20  3.33  1.28  72.36  0.60   9.14  0.00  0.11     1\n",
      "67   1.52152  13.05  3.65  0.87  72.32  0.19   9.85  0.00  0.17     1\n",
      "27   1.51721  12.87  3.48  1.33  73.04  0.56   8.43  0.00  0.00     1\n",
      "110  1.52664  11.23  0.00  0.77  73.21  0.00  14.68  0.00  0.00     2\n",
      "6    1.51743  13.30  3.60  1.14  73.09  0.58   8.17  0.00  0.00     1\n",
      "5    1.51596  12.79  3.61  1.62  72.97  0.64   8.07  0.00  0.26     1\n",
      "57   1.51824  12.87  3.48  1.29  72.95  0.60   8.43  0.00  0.00     1\n",
      "136  1.51806  13.00  3.80  1.08  73.07  0.56   8.38  0.00  0.12     2\n",
      "163  1.51514  14.01  2.68  3.50  69.89  1.68   5.87  2.20  0.00     5\n",
      "69   1.52300  13.31  3.58  0.82  71.99  0.12  10.17  0.00  0.03     1\n",
      "171  1.51316  13.02  0.00  3.04  70.48  6.21   6.96  0.00  0.00     5\n",
      "78   1.51613  13.92  3.52  1.25  72.88  0.37   7.94  0.00  0.14     2\n",
      "58   1.51754  13.48  3.74  1.17  72.99  0.59   8.03  0.00  0.00     1\n",
      "104  1.52410  13.83  2.90  1.17  71.15  0.08  10.79  0.00  0.00     2\n",
      "2    1.51618  13.53  3.55  1.54  72.99  0.39   7.78  0.00  0.00     1\n",
      "135  1.51789  13.19  3.90  1.30  72.33  0.55   8.44  0.00  0.28     2\n",
      "129  1.52020  13.98  1.35  1.63  71.76  0.39  10.56  0.00  0.18     2\n",
      "114  1.51847  13.10  3.97  1.19  72.44  0.60   8.43  0.00  0.00     2\n",
      "77   1.51627  13.00  3.58  1.54  72.83  0.61   8.04  0.00  0.00     2\n",
      "166  1.52151  11.03  1.71  1.56  73.44  0.58  11.62  0.00  0.00     5\n",
      "38   1.52213  14.21  3.82  0.47  71.77  0.11   9.57  0.00  0.00     1\n",
      "131  1.52614  13.70  0.00  1.36  71.24  0.19  13.44  0.00  0.10     2\n",
      "59   1.51754  13.39  3.66  1.19  72.79  0.57   8.27  0.00  0.11     1\n",
      "119  1.51652  13.56  3.57  1.47  72.45  0.64   7.96  0.00  0.00     2\n",
      "113  1.51892  13.46  3.83  1.26  72.55  0.57   8.21  0.00  0.14     2\n",
      "139  1.51674  12.87  3.56  1.64  73.14  0.65   7.99  0.00  0.00     2\n",
      "150  1.51665  13.14  3.45  1.76  72.48  0.60   8.38  0.00  0.17     3\n",
      "\n",
      "[171 rows x 10 columns]\n",
      "*******TEST*******\n",
      "          RI     Na    Mg    Al     Si     K     Ca    Ba    Fe  Type\n",
      "104  1.52410  13.83  2.90  1.17  71.15  0.08  10.79  0.00  0.00     2\n",
      "156  1.51655  13.41  3.39  1.28  72.64  0.52   8.65  0.00  0.00     3\n",
      "13   1.51748  12.86  3.56  1.27  73.21  0.54   8.38  0.00  0.17     1\n",
      "200  1.51508  15.15  0.00  2.25  73.50  0.00   8.34  0.63  0.00     7\n",
      "93   1.51590  13.24  3.34  1.47  73.10  0.39   8.22  0.00  0.00     2\n",
      "175  1.52119  12.97  0.33  1.51  73.39  0.13  11.27  0.00  0.28     5\n",
      "38   1.52213  14.21  3.82  0.47  71.77  0.11   9.57  0.00  0.00     1\n",
      "81   1.51593  13.25  3.45  1.43  73.17  0.61   7.86  0.00  0.00     2\n",
      "125  1.51872  12.93  3.66  1.56  72.51  0.58   8.55  0.00  0.12     2\n",
      "52   1.51808  13.43  2.87  1.19  72.84  0.55   9.03  0.00  0.00     1\n",
      "44   1.51786  12.73  3.43  1.19  72.95  0.62   8.76  0.00  0.30     1\n",
      "181  1.51888  14.99  0.78  1.74  72.50  0.00   9.95  0.00  0.00     6\n",
      "168  1.51666  12.86  0.00  1.83  73.88  0.97  10.17  0.00  0.00     5\n",
      "0    1.52101  13.64  4.49  1.10  71.78  0.06   8.75  0.00  0.00     1\n",
      "120  1.51844  13.25  3.76  1.32  72.40  0.58   8.42  0.00  0.00     2\n",
      "23   1.51751  12.81  3.57  1.35  73.02  0.62   8.59  0.00  0.00     1\n",
      "158  1.51776  13.53  3.41  1.52  72.04  0.58   8.79  0.00  0.00     3\n",
      "186  1.51838  14.32  3.26  2.22  71.25  1.46   5.79  1.63  0.00     7\n",
      "135  1.51789  13.19  3.90  1.30  72.33  0.55   8.44  0.00  0.28     2\n",
      "54   1.51778  13.21  2.81  1.29  72.98  0.51   9.02  0.00  0.09     1\n",
      "78   1.51613  13.92  3.52  1.25  72.88  0.37   7.94  0.00  0.14     2\n",
      "73   1.51631  13.34  3.57  1.57  72.87  0.61   7.89  0.00  0.00     2\n",
      "2    1.51618  13.53  3.55  1.54  72.99  0.39   7.78  0.00  0.00     1\n",
      "162  1.52211  14.19  3.78  0.91  71.36  0.23   9.14  0.00  0.37     3\n",
      "110  1.52664  11.23  0.00  0.77  73.21  0.00  14.68  0.00  0.00     2\n",
      "124  1.52177  13.20  3.68  1.15  72.75  0.54   8.52  0.00  0.00     2\n",
      "72   1.51593  13.09  3.59  1.52  73.10  0.67   7.83  0.00  0.00     2\n",
      "97   1.51743  12.20  3.25  1.16  73.55  0.62   8.90  0.00  0.24     2\n",
      "111  1.52739  11.02  0.00  0.75  73.08  0.00  14.96  0.00  0.00     2\n",
      "56   1.51215  12.99  3.47  1.12  72.98  0.62   8.35  0.00  0.31     1\n",
      "61   1.51977  13.81  3.58  1.32  71.72  0.12   8.67  0.69  0.00     1\n",
      "40   1.51793  12.79  3.50  1.12  73.03  0.64   8.77  0.00  0.00     1\n",
      "53   1.51837  13.14  2.84  1.28  72.85  0.55   9.07  0.00  0.00     1\n",
      "146  1.51769  13.65  3.66  1.11  72.77  0.11   8.60  0.00  0.00     3\n",
      "85   1.51625  13.36  3.58  1.49  72.72  0.45   8.21  0.00  0.00     2\n",
      "50   1.52320  13.72  3.72  0.51  71.75  0.09  10.06  0.00  0.16     1\n",
      "3    1.51766  13.21  3.69  1.29  72.61  0.57   8.22  0.00  0.00     1\n",
      "130  1.52177  13.75  1.01  1.36  72.19  0.33  11.14  0.00  0.00     2\n",
      "208  1.51640  14.37  0.00  2.74  72.85  0.00   9.45  0.54  0.00     7\n",
      "163  1.51514  14.01  2.68  3.50  69.89  1.68   5.87  2.20  0.00     5\n",
      "123  1.51707  13.48  3.48  1.71  72.52  0.62   7.99  0.00  0.00     2\n",
      "142  1.51662  12.85  3.51  1.44  73.01  0.68   8.23  0.06  0.25     2\n",
      "34   1.51783  12.69  3.54  1.34  72.95  0.57   8.75  0.00  0.00     1\n"
     ]
    }
   ],
   "source": [
    "import matplotlib.pyplot as plt\n",
    "\n",
    "colors = np.where(training_data[\"Mg\"]==0,'k','r')\n",
    "ax1 = training_data.plot.scatter(\"Mg\",\"Si\",5, c=colors)\n",
    "ax2 = test_data.plot.scatter(\"Mg\", \"Si\", 5, 'b', ax=ax1)\n",
    "plt.show()\n",
    "\n",
    "print(\"*******TRAINING*******\")\n",
    "print(training_data)\n",
    "print(\"*******TEST*******\")\n",
    "print(test_data)"
   ]
  },
  {
   "cell_type": "markdown",
   "metadata": {},
   "source": [
    "Write a function ```knn_search(p, trainingset, k)``` that returns the indices of the ```k``` closest neighbours around the point ```p```, use the ```distance``` function implemented in previous task!"
   ]
  },
  {
   "cell_type": "code",
   "execution_count": 24,
   "metadata": {},
   "outputs": [
    {
     "name": "stdout",
     "output_type": "stream",
     "text": [
      "[1, 0, 3, 2]\n"
     ]
    }
   ],
   "source": [
    "def knn_search(p, trainingset, k):\n",
    "    data = distance(p, trainingset, len(p))\n",
    "    indices = []\n",
    "    distances = []\n",
    "    for dist in data:\n",
    "        indices.append(dist[1])\n",
    "        distances.append(dist[0])\n",
    "    return indices[0:k]\n",
    "\n",
    "p = [1,2,3,4]\n",
    "data = [[0,2,0,0],[0,0,0,1],[4,0,0,0],[0,0,0,0]]\n",
    "\n",
    "ans = knn_search(p,data,4)\n",
    "print(ans)"
   ]
  },
  {
   "cell_type": "markdown",
   "metadata": {},
   "source": [
    "We then write a function (with the help of a library) that looks at the labels of the closest neighbours, and chooses the most frequent label as its output. This is your predicted value for the point ```p```."
   ]
  },
  {
   "cell_type": "code",
   "execution_count": 25,
   "metadata": {},
   "outputs": [
    {
     "data": {
      "text/plain": [
       "[(3, 5)]"
      ]
     },
     "execution_count": 25,
     "metadata": {},
     "output_type": "execute_result"
    }
   ],
   "source": [
    "from collections import Counter\n",
    "\n",
    "#have to input a table of 2 columns (values and labels)\n",
    "def label(labels):\n",
    "    #values = data[0]\n",
    "    #labels = data[1]\n",
    "    label = Counter(labels).most_common(1)\n",
    "#   label,freq = labels.most_common(1)\n",
    "#    print(str(label[0][0])+\" is the most common, seen \"+str(label[0][1])+\" times.\")\n",
    "    return label\n",
    "\n",
    "labels = [3,3,6,2,7,9,3,1,4,6,8,9,3,6,8,4,8,3,6,0]\n",
    "label(labels)"
   ]
  },
  {
   "cell_type": "markdown",
   "metadata": {},
   "source": [
    "Use the code to make a prediction about the labels in the testing set, calculate the accuracy, sensitivity, and specificity of this model."
   ]
  },
  {
   "cell_type": "code",
   "execution_count": 26,
   "metadata": {},
   "outputs": [
    {
     "name": "stdout",
     "output_type": "stream",
     "text": [
      "[0.9302325581395349, 1.0, 1.0]\n"
     ]
    }
   ],
   "source": [
    "#convert dataframes into matrices for easier manipulation\n",
    "trainingmat = np.array(training_data)\n",
    "testmat = np.array(test_data)\n",
    "\n",
    "k = 6 #number of nearest neighbours to sample\n",
    "\n",
    "#predicted types of the test data\n",
    "pred_types = [] #predicted type of each sample\n",
    "test_indices = [] #indices of each sample in the test_data dataframe\n",
    "accurate = [] #array showing which test samples were classified correctly\n",
    "\n",
    "for index,test in test_data.iterrows():\n",
    "    test_indices.append(index) #just for admin\n",
    "    \n",
    "    p = np.array(test) #converts each row of test_data into an array, to use for the knn_search function\n",
    "    ans = knn_search(p,trainingmat,k) #returns k nearest neighbours' index within the trainingmat array.\n",
    "    neighbour_indices = training_data.index[ans] #converts trainingmat indices into training_data (dataframe) indices\n",
    "    types = np.array(training_data[\"Mg\"][neighbour_indices]) #finds the 'Mg' of each data sample, based on training_data indices\n",
    "    lab_freq = label(types) #finds whether it classify test sample as 0 or Mg value\n",
    "    if lab_freq[0][0] == 0:\n",
    "        assigned_val = 0\n",
    "    else:\n",
    "        assigned_val = lab_freq[0][0]\n",
    "    pred_types.append(assigned_val) #appends the assigned type to an array, one for each test sample\n",
    "    \n",
    "fin = np.column_stack([np.array(test_data[\"Mg\"]),pred_types])\n",
    "#print(fin)\n",
    "\n",
    "#calculating accuracy, sensitivity and specifity\n",
    "corr_pred,true_pos,false_pos,true_neg,false_neg = [0,0,0,0,0]\n",
    "for i in range(len(pred_types)):\n",
    "    if (np.array(test_data[\"Mg\"])[i] != 0) and (pred_types[i] != 0):\n",
    "        true_pos += 1\n",
    "        corr_pred += 1\n",
    "    elif (np.array(test_data[\"Mg\"])[i] == 1) and (pred_types[i] == 0):\n",
    "        false_pos += 1\n",
    "    elif (np.array(test_data[\"Mg\"])[i] == 0) and (pred_types[i] == 1):\n",
    "        false_neg += 1\n",
    "    elif (np.array(test_data[\"Mg\"])[i] == 0) and (pred_types[i] == 0):\n",
    "        true_neg += 1\n",
    "        corr_pred += 1\n",
    "\n",
    "accuracy = corr_pred/(len(pred_types))\n",
    "sensitivity = true_pos/(true_pos+false_neg)\n",
    "specifity = true_neg/(true_neg+false_pos)\n",
    "\n",
    "print([accuracy,sensitivity,specifity])\n",
    "#we get 97% accuracy\n",
    "    \n",
    "#Tried to do the exercise by classifying it into types instead, but then what counts as positive/negative as you have multiple variables to classify it into?\n",
    "    \n",
    "    \n",
    "    "
   ]
  },
  {
   "cell_type": "markdown",
   "metadata": {},
   "source": [
    "As we can see, using K-Nearest Neighbours for binary classification (whether Mg value is nonzero) is trivial, and a basic set of functions provides a fairly good result. Now we move onto logistic regression."
   ]
  },
  {
   "cell_type": "markdown",
   "metadata": {
    "colab_type": "text",
    "id": "KyWmB3cFSEEO"
   },
   "source": [
    "## 2. Implementation of logistic regression"
   ]
  },
  {
   "cell_type": "markdown",
   "metadata": {},
   "source": [
    "In order to begin, use matplotlib and numpy to plot the logistic function $\\phi(z)$ over a sufficiently long range of $z$-values to showcase its behaviour. $$\\phi(z) = \\frac{1}{1 + exp(-z)}$$\n",
    "    "
   ]
  },
  {
   "cell_type": "code",
   "execution_count": 27,
   "metadata": {
    "scrolled": true
   },
   "outputs": [
    {
     "name": "stdout",
     "output_type": "stream",
     "text": [
      "[-8.         -7.67346939 -7.34693878 -7.02040816 -6.69387755 -6.36734694\n",
      " -6.04081633 -5.71428571 -5.3877551  -5.06122449 -4.73469388 -4.40816327\n",
      " -4.08163265 -3.75510204 -3.42857143 -3.10204082 -2.7755102  -2.44897959\n",
      " -2.12244898 -1.79591837 -1.46938776 -1.14285714 -0.81632653 -0.48979592\n",
      " -0.16326531  0.16326531  0.48979592  0.81632653  1.14285714  1.46938776\n",
      "  1.79591837  2.12244898  2.44897959  2.7755102   3.10204082  3.42857143\n",
      "  3.75510204  4.08163265  4.40816327  4.73469388  5.06122449  5.3877551\n",
      "  5.71428571  6.04081633  6.36734694  6.69387755  7.02040816  7.34693878\n",
      "  7.67346939  8.        ]\n"
     ]
    },
    {
     "data": {
      "image/png": "[encoded data removed]",
      "text/plain": [
       "<Figure size 432x288 with 1 Axes>"
      ]
     },
     "metadata": {
      "needs_background": "light"
     },
     "output_type": "display_data"
    }
   ],
   "source": [
    "x = np.linspace(-8,8,50)\n",
    "print(x)\n",
    "phi = (1)/(1+(np.exp(-x)))\n",
    "\n",
    "plt.grid()\n",
    "plt.xlabel(\"z\")\n",
    "plt.xlabel(\"p\")\n",
    "plt.plot(x,phi)\n",
    "plt.show()"
   ]
  },
  {
   "cell_type": "markdown",
   "metadata": {},
   "source": [
    "First we need to convert this into a binary classification model. As the glass types range from 1 to 7, we map types 1,2,3 > 0 and 5,6,7 > 1. There are no samples with type 4. We then plot this dataset to see if the mapping is a fair approximation:"
   ]
  },
  {
   "cell_type": "code",
   "execution_count": 28,
   "metadata": {},
   "outputs": [
    {
     "data": {
      "text/plain": [
       "<matplotlib.collections.PathCollection at 0x1a233a7898>"
      ]
     },
     "execution_count": 28,
     "metadata": {},
     "output_type": "execute_result"
    },
    {
     "data": {
      "image/png": "[encoded data removed]",
      "text/plain": [
       "<Figure size 432x288 with 1 Axes>"
      ]
     },
     "metadata": {
      "needs_background": "light"
     },
     "output_type": "display_data"
    }
   ],
   "source": [
    "#maps Types 1-3 as 0 and 5-7 as 1\n",
    "dataset['binary'] = dataset.Type.map({1:0, 2:0, 3:0, 5:1, 6:1, 7:1})\n",
    "data = np.stack((dataset[\"Al\"], np.full_like(dataset[\"Al\"],1),dataset[\"binary\"]), axis=-1)\n",
    "\n",
    "#Al is the x value, anything with type 1,2,3 > 0, and type 4,5,6 > 1\n",
    "df_Al_data = pd.DataFrame(columns = ['Al','const','label'])\n",
    "df_Al_data['Al'] = dataset[\"Al\"]\n",
    "df_Al_data['const'] = 1\n",
    "df_Al_data['label'] = dataset['binary']\n",
    "\n",
    "plt.grid()\n",
    "plt.xlabel('Al content')\n",
    "plt.ylabel('Type')\n",
    "plt.scatter(df_Al_data['Al'][df_Al_data['label'] == 1],df_Al_data['label'][df_Al_data['label'] == 1],10,c='red')\n",
    "plt.scatter(df_Al_data['Al'][df_Al_data['label'] == 0],df_Al_data['label'][df_Al_data['label'] == 0],10,c='blue')\n",
    "\n",
    "\n"
   ]
  },
  {
   "cell_type": "markdown",
   "metadata": {},
   "source": [
    "We define the training and test data, to make life easier later on:"
   ]
  },
  {
   "cell_type": "code",
   "execution_count": 29,
   "metadata": {},
   "outputs": [
    {
     "data": {
      "text/plain": [
       "<matplotlib.collections.PathCollection at 0x1a234cdbe0>"
      ]
     },
     "execution_count": 29,
     "metadata": {},
     "output_type": "execute_result"
    },
    {
     "data": {
      "image/png": "[encoded data removed]",
      "text/plain": [
       "<Figure size 432x288 with 1 Axes>"
      ]
     },
     "metadata": {
      "needs_background": "light"
     },
     "output_type": "display_data"
    }
   ],
   "source": [
    "train = np.array(df_Al_data.sample(frac = 0.8))\n",
    "test = np.array(df_Al_data.sample(frac = 0.2))\n",
    "    \n",
    "X_train = train[:,0:2] #notice it's in 2 dimensions\n",
    "weights = np.transpose([[0.2, 0.5]]) #randomly chosen\n",
    "Y_train = train[:,[2]] #notice it's in 2 dimensions\n",
    "\n",
    "X_test =  test[:,0:2]\n",
    "Y_test = test[:,[2]]\n",
    "\n",
    "plt.grid()\n",
    "plt.title(\"Training data in black, test in red\")\n",
    "plt.ylabel(\"Type\")\n",
    "plt.xlabel(\"Al concentration\")\n",
    "plt.scatter(X_train[:,0],Y_train,5,c='black')\n",
    "plt.scatter(X_test[:,0],Y_test,5,c='red')"
   ]
  },
  {
   "cell_type": "markdown",
   "metadata": {},
   "source": [
    "Define the sigmoid function. Then define a function that converts features (inputs) and weights into labels (outputs) through the sigmoid function."
   ]
  },
  {
   "cell_type": "code",
   "execution_count": 30,
   "metadata": {},
   "outputs": [],
   "source": [
    "def logit(z):\n",
    "    phi = (1)/(1+(np.exp(-z)))\n",
    "    return phi\n",
    "\n",
    "def predict(features,weights):\n",
    "    z = np.dot(features,weights)\n",
    "    return logit(z)\n"
   ]
  },
  {
   "cell_type": "markdown",
   "metadata": {},
   "source": [
    "Write a ```cost_function``` function to calculate the log loss or 'cost' of the predictions in comparison with the actual labels. The basis of this equation is the maximum likelihood estimate - here is are a few rows in its derivation:"
   ]
  },
  {
   "cell_type": "markdown",
   "metadata": {},
   "source": [
    "Assuming the input data has a single independent variable $x$ (feature) and a binary outcome $y$, the maximum likelihood $L(\\alpha_0, \\alpha_1)$ becomes: \n",
    "\n",
    "$$L(\\alpha_0, \\alpha_1) = \\prod_{i} P(x_i)^{y_i}\\left(1-P(x_i)\\right)^{1-y_i},$$\n",
    "\n",
    "where the product runs over all the datapoints $i$, and $P(\\vec{x})$ is the logistic probability function. Log-likelihood can then be expressed as: \n",
    "\n",
    "$$l(\\alpha_0,\\alpha_1) = \\sum_{i=1}^n - \\log\\left(1 + \\exp({\\alpha_0 + \\alpha_1 x_i})\\right) + \\sum_{i=1}^n y_i(\\alpha_0 + \\alpha_1 x_i),$$\n",
    "\n",
    "and the partial derivatives of the log-likelihood:\n",
    "\n",
    "\n",
    "$$\\frac{\\partial l}{\\partial \\alpha_0} = -\\sum_{i=1}^n y_i - P(x_i; \\alpha_0, \\alpha_1)\\qquad\\text{and}\\qquad \\frac{\\partial l}{\\partial \\alpha_1} = -\\sum_{i=1}^n \\left(y_i - P(x_i; \\alpha_0, \\alpha_1)\\right)x_{i}$$\n",
    "\n",
    "BTW: P(...) here is the same as logit($\\alpha_1.x$ + $\\alpha_0$)\n",
    "\n",
    "As before, to find the optimal parameters $\\alpha_0, \\alpha_1$ we will code a function minimiser. In the previous lecture you have coded a simple gradient-descent, we will quickly go through the process again. The more confident can google the newton-raphson minimiser and implement it instead."
   ]
  },
  {
   "cell_type": "markdown",
   "metadata": {},
   "source": [
    "https://ml-cheatsheet.readthedocs.io/en/latest/logistic_regression.html"
   ]
  },
  {
   "cell_type": "code",
   "execution_count": 31,
   "metadata": {},
   "outputs": [],
   "source": [
    "def cost_function(features,labels,weights):\n",
    "    datapoints = len(labels) #2000 datapoints\n",
    "    '''labels: [2000 1]'''\n",
    "    '''labels: [2000 1]'''\n",
    "    '''weights: [2 1]'''\n",
    "    '''predicted: [2000' 1]'''\n",
    "    predicted = predict(features,weights) #[2000 1]\n",
    "    \n",
    "    #error when label = 1\n",
    "    cost_1 = -labels*np.log(predicted) #should give [2000 1], 1 number for each data point\n",
    "    #error when label = 0\n",
    "    cost_2 = -((1-labels)*np.log(1-predicted)) #again, this isnot matrix multiplication\n",
    "    \n",
    "    total_cost = cost_1+cost_2\n",
    "    average_cost = np.sum(total_cost)/datapoints\n",
    "    \n",
    "    return average_cost #average_cost: [1 1]\n",
    "\n"
   ]
  },
  {
   "cell_type": "markdown",
   "metadata": {},
   "source": [
    "If we say the sigmoid function is P(z) (as it gives the probability of the sample being type 1 given a certain z value), then the maximum likelihood derivative, i.e. the cost function derivative can be written as:\n",
    "\n",
    "$$\\frac{\\partial \\boldsymbol l}{\\partial \\boldsymbol \\alpha} = -\\sum_{i=1}^n x_i \\times (\\boldsymbol y_i - P(\\boldsymbol z))$$\n",
    "\n",
    "Where $ \\boldsymbol \\alpha \\text{ represents } \\alpha_0 \\text{ and } \\alpha_1. $ This is essentially the gradient that we use for gradient descent to find the optimum weights for this problem."
   ]
  },
  {
   "cell_type": "markdown",
   "metadata": {},
   "source": [
    "Write a function to figure out the cost function derivative with respect to the weights, and then update the weights accordingly:"
   ]
  },
  {
   "cell_type": "code",
   "execution_count": 32,
   "metadata": {},
   "outputs": [],
   "source": [
    "def update_weights(features,labels,weights,learning_rate):\n",
    "    \"\"\" features: [2000 2] (even if the second column is just 1s, for the bias term)\n",
    "    labels: [2000 1]\n",
    "    weights: [2 1]\"\"\"\n",
    "    \n",
    "    predicted = predict(features,weights) #predicted: [2000 1]\n",
    "    N = len(features)\n",
    "    \n",
    "    cost_derivative = np.dot(features.T, (predicted - labels)) #outputs 2 by 1 matrix\n",
    "    #with the cost derivative with respect to each weight\n",
    "    \"\"\"cost_derivative = [2 1]\"\"\"\n",
    "    weights = weights - (cost_derivative/N)*learning_rate\n",
    "    return weights\n",
    "\n"
   ]
  },
  {
   "cell_type": "markdown",
   "metadata": {},
   "source": [
    "Now, we need to write code to classify our predictions. Logistic regression gives us a probability that any given sample belongs to the label 0 or 1. If this probability is higher than a certain number, we convert the class label to 1 and otherwise, convert it to 0. This number can be heuristically determined based on the training set, though we must be careful not to overfit to the training data.\n"
   ]
  },
  {
   "cell_type": "code",
   "execution_count": 33,
   "metadata": {},
   "outputs": [],
   "source": [
    "def decision_boundary(prob):\n",
    "    return 1 if prob >= .7 else 0\n",
    "\n",
    "decision_boundary = np.vectorize(decision_boundary)\n",
    "\n",
    "def classify(preds):\n",
    "    return decision_boundary(preds).flatten()\n"
   ]
  },
  {
   "cell_type": "markdown",
   "metadata": {},
   "source": [
    "Finally, we can begin training on our dataset! This piece of code iterates through the logistic regression algorithm (using Gradient Descent):\n",
    "- First, predict the labels given the current weights\n",
    "- Calculate the cost derivative based on predictions\n",
    "- Update the weights based on the cost derviative\n",
    "- Repeat until convergence\n",
    "    \n",
    "    "
   ]
  },
  {
   "cell_type": "code",
   "execution_count": 34,
   "metadata": {},
   "outputs": [],
   "source": [
    "def minimize(features, labels, weights, lr, iters):\n",
    "    cost_history = []\n",
    "    for i in range(iters):\n",
    "        weights = update_weights(features, labels, weights, lr)\n",
    "\n",
    "        #Calculate error for auditing purposes\n",
    "        cost = cost_function(features, labels, weights)\n",
    "        cost_history.append(cost)\n",
    "        # Log Progress\n",
    "        #if i % 1000 == 0:\n",
    "         #   print(\"iter: \"+str(i) + \" cost: \"+str(cost))\n",
    "\n",
    "    return weights, cost_history\n"
   ]
  },
  {
   "cell_type": "markdown",
   "metadata": {},
   "source": [
    "Calculate the accuracy of predictions:"
   ]
  },
  {
   "cell_type": "code",
   "execution_count": 35,
   "metadata": {},
   "outputs": [],
   "source": [
    "def accuracy(predicted_labels, actual_labels):\n",
    "    diff = predicted_labels - actual_labels\n",
    "    return 1.0 - (float(np.count_nonzero(diff)) / len(diff))"
   ]
  },
  {
   "cell_type": "markdown",
   "metadata": {},
   "source": [
    "Plot cost history:"
   ]
  },
  {
   "cell_type": "code",
   "execution_count": 36,
   "metadata": {
    "scrolled": true
   },
   "outputs": [
    {
     "data": {
      "text/plain": [
       "[<matplotlib.lines.Line2D at 0x1a23825128>]"
      ]
     },
     "execution_count": 36,
     "metadata": {},
     "output_type": "execute_result"
    },
    {
     "data": {
      "image/png": "[encoded data removed]",
      "text/plain": [
       "<Figure size 432x288 with 1 Axes>"
      ]
     },
     "metadata": {
      "needs_background": "light"
     },
     "output_type": "display_data"
    }
   ],
   "source": [
    "fin_weights, cost_history = minimize(X_train,Y_train,weights,0.0005,10000)\n",
    "plt.figure()\n",
    "plt.grid()\n",
    "plt.xlabel(\"No. of iterations\")\n",
    "plt.ylabel(\"Cost\")\n",
    "plt.plot(cost_history)\n"
   ]
  },
  {
   "cell_type": "markdown",
   "metadata": {},
   "source": [
    "Plot the test labels, test probabilities, and the labels that we mapped the probabilities to on a graph. Also calculate the accuracy of the model and display it below."
   ]
  },
  {
   "cell_type": "code",
   "execution_count": 38,
   "metadata": {
    "scrolled": false
   },
   "outputs": [
    {
     "name": "stdout",
     "output_type": "stream",
     "text": [
      "Accuracy:  79.07 %\n"
     ]
    },
    {
     "data": {
      "image/png": "[encoded data removed]",
      "text/plain": [
       "<Figure size 432x288 with 1 Axes>"
      ]
     },
     "metadata": {
      "needs_background": "light"
     },
     "output_type": "display_data"
    }
   ],
   "source": [
    "\n",
    "plt.grid()\n",
    "Y_pred = predict(X_test,-fin_weights)\n",
    "Y_pred_labs = classify(Y_pred)\n",
    "\n",
    "plt.title(\"Test:black, Pred:blue, Classified:red\")\n",
    "plt.xlabel('Al concentration')\n",
    "plt.ylabel('Probability')\n",
    "\n",
    "plt.scatter(X_test[:,0],Y_test,10,c='black')\n",
    "plt.scatter(X_test[:,0],Y_pred,5,c='blue') #should be curved? Couldn't find the error.\n",
    "plt.scatter(X_test[:,0],Y_pred_labs,5,c='red')\n",
    "\n",
    "acc = accuracy(Y_pred_labs,Y_test[:,0])\n",
    "print(\"Accuracy: \", round((100*acc),2),\"%\")"
   ]
  },
  {
   "cell_type": "markdown",
   "metadata": {},
   "source": [
    "# 3. Comparison to scikitlearn implementation"
   ]
  },
  {
   "cell_type": "markdown",
   "metadata": {},
   "source": [
    "Here we show just how much easier it is to implement logistic regression in scikit-learn, with a prepared library and helper functions, which helps us appreciate the complexity of scikit-learn. Nonetheless, this also shows that without a good understanding of the fundamentals and behind-the-scenes mathematics of these libraries, it is difficult to utilise them to their full potential.\n"
   ]
  },
  {
   "cell_type": "code",
   "execution_count": 39,
   "metadata": {},
   "outputs": [
    {
     "name": "stdout",
     "output_type": "stream",
     "text": [
      "Accuracy:  83.72 %\n"
     ]
    },
    {
     "name": "stderr",
     "output_type": "stream",
     "text": [
      "/Users/arohan/anaconda3/lib/python3.6/site-packages/sklearn/utils/validation.py:761: DataConversionWarning: A column-vector y was passed when a 1d array was expected. Please change the shape of y to (n_samples, ), for example using ravel().\n",
      "  y = column_or_1d(y, warn=True)\n"
     ]
    },
    {
     "data": {
      "text/plain": [
       "<matplotlib.collections.PathCollection at 0x1a23aa98d0>"
      ]
     },
     "execution_count": 39,
     "metadata": {},
     "output_type": "execute_result"
    },
    {
     "data": {
      "image/png": "[encoded data removed]",
      "text/plain": [
       "<Figure size 432x288 with 1 Axes>"
      ]
     },
     "metadata": {
      "needs_background": "light"
     },
     "output_type": "display_data"
    }
   ],
   "source": [
    "X_train_2D = np.reshape(X_train[:,0],(len(X_train),1))\n",
    "X_test_2D = np.reshape(X_test[:,0],(len(X_test),1))\n",
    "\n",
    "model = LogisticRegression(penalty='l2', solver='newton-cg')\n",
    "model.fit(X_train_2D,Y_train)\n",
    "\n",
    "Y_pred_sk = model.predict(X_test_2D)\n",
    "Y_pred_prob = model.predict_proba(X_test_2D)\n",
    "\n",
    "acc = accuracy(Y_pred_sk,Y_test[:,0])\n",
    "print(\"Accuracy: \", round((100*acc),2),\"%\")\n",
    "\n",
    "plt.grid()\n",
    "plt.title(\"Test:black, Pred:blue, Classified:red\")\n",
    "plt.xlabel('Al concentration')\n",
    "plt.ylabel('Probability')\n",
    "\n",
    "plt.scatter(X_test[:,0],Y_test,10,c='black')\n",
    "plt.scatter(X_test[:,0],Y_pred_prob[:,1],5,c='blue')\n",
    "plt.scatter(X_test[:,0],Y_pred_sk,5,c='red')\n"
   ]
  },
  {
   "cell_type": "code",
   "execution_count": null,
   "metadata": {},
   "outputs": [],
   "source": []
  },
  {
   "cell_type": "code",
   "execution_count": null,
   "metadata": {},
   "outputs": [],
   "source": []
  },
  {
   "cell_type": "code",
   "execution_count": null,
   "metadata": {},
   "outputs": [],
   "source": []
  },
  {
   "cell_type": "code",
   "execution_count": null,
   "metadata": {},
   "outputs": [],
   "source": []
  }
 ],
 "metadata": {
  "kernelspec": {
   "display_name": "Python 3",
   "language": "python",
   "name": "python3"
  },
  "language_info": {
   "codemirror_mode": {
    "name": "ipython",
    "version": 3
   },
   "file_extension": ".py",
   "mimetype": "text/x-python",
   "name": "python",
   "nbconvert_exporter": "python",
   "pygments_lexer": "ipython3",
   "version": "3.6.7"
  }
 },
 "nbformat": 4,
 "nbformat_minor": 2
}
