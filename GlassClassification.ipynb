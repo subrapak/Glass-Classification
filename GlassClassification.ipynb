{
 "cells": [
  {
   "cell_type": "markdown",
   "metadata": {
    "scrolled": true
   },
   "source": [
    "# KNN Classification and Logistic Regression to classify glass types"
   ]
  },
  {
   "cell_type": "code",
   "execution_count": 24,
   "metadata": {},
   "outputs": [
    {
     "data": {
      "text/html": [
       "<div>\n",
       "<style scoped>\n",
       "    .dataframe tbody tr th:only-of-type {\n",
       "        vertical-align: middle;\n",
       "    }\n",
       "\n",
       "    .dataframe tbody tr th {\n",
       "        vertical-align: top;\n",
       "    }\n",
       "\n",
       "    .dataframe thead th {\n",
       "        text-align: right;\n",
       "    }\n",
       "</style>\n",
       "<table border=\"1\" class=\"dataframe\">\n",
       "  <thead>\n",
       "    <tr style=\"text-align: right;\">\n",
       "      <th></th>\n",
       "      <th>RI</th>\n",
       "      <th>Na</th>\n",
       "      <th>Mg</th>\n",
       "      <th>Al</th>\n",
       "      <th>Si</th>\n",
       "      <th>K</th>\n",
       "      <th>Ca</th>\n",
       "      <th>Ba</th>\n",
       "      <th>Fe</th>\n",
       "      <th>Type</th>\n",
       "    </tr>\n",
       "  </thead>\n",
       "  <tbody>\n",
       "    <tr>\n",
       "      <th>21</th>\n",
       "      <td>1.51966</td>\n",
       "      <td>14.77</td>\n",
       "      <td>3.75</td>\n",
       "      <td>0.29</td>\n",
       "      <td>72.02</td>\n",
       "      <td>0.03</td>\n",
       "      <td>9.00</td>\n",
       "      <td>0.0</td>\n",
       "      <td>0.00</td>\n",
       "      <td>1</td>\n",
       "    </tr>\n",
       "    <tr>\n",
       "      <th>184</th>\n",
       "      <td>1.51115</td>\n",
       "      <td>17.38</td>\n",
       "      <td>0.00</td>\n",
       "      <td>0.34</td>\n",
       "      <td>75.41</td>\n",
       "      <td>0.00</td>\n",
       "      <td>6.65</td>\n",
       "      <td>0.0</td>\n",
       "      <td>0.00</td>\n",
       "      <td>6</td>\n",
       "    </tr>\n",
       "    <tr>\n",
       "      <th>39</th>\n",
       "      <td>1.52213</td>\n",
       "      <td>14.21</td>\n",
       "      <td>3.82</td>\n",
       "      <td>0.47</td>\n",
       "      <td>71.77</td>\n",
       "      <td>0.11</td>\n",
       "      <td>9.57</td>\n",
       "      <td>0.0</td>\n",
       "      <td>0.00</td>\n",
       "      <td>1</td>\n",
       "    </tr>\n",
       "    <tr>\n",
       "      <th>38</th>\n",
       "      <td>1.52213</td>\n",
       "      <td>14.21</td>\n",
       "      <td>3.82</td>\n",
       "      <td>0.47</td>\n",
       "      <td>71.77</td>\n",
       "      <td>0.11</td>\n",
       "      <td>9.57</td>\n",
       "      <td>0.0</td>\n",
       "      <td>0.00</td>\n",
       "      <td>1</td>\n",
       "    </tr>\n",
       "    <tr>\n",
       "      <th>50</th>\n",
       "      <td>1.52320</td>\n",
       "      <td>13.72</td>\n",
       "      <td>3.72</td>\n",
       "      <td>0.51</td>\n",
       "      <td>71.75</td>\n",
       "      <td>0.09</td>\n",
       "      <td>10.06</td>\n",
       "      <td>0.0</td>\n",
       "      <td>0.16</td>\n",
       "      <td>1</td>\n",
       "    </tr>\n",
       "  </tbody>\n",
       "</table>\n",
       "</div>"
      ],
      "text/plain": [
       "          RI     Na    Mg    Al     Si     K     Ca   Ba    Fe  Type\n",
       "21   1.51966  14.77  3.75  0.29  72.02  0.03   9.00  0.0  0.00     1\n",
       "184  1.51115  17.38  0.00  0.34  75.41  0.00   6.65  0.0  0.00     6\n",
       "39   1.52213  14.21  3.82  0.47  71.77  0.11   9.57  0.0  0.00     1\n",
       "38   1.52213  14.21  3.82  0.47  71.77  0.11   9.57  0.0  0.00     1\n",
       "50   1.52320  13.72  3.72  0.51  71.75  0.09  10.06  0.0  0.16     1"
      ]
     },
     "execution_count": 24,
     "metadata": {},
     "output_type": "execute_result"
    }
   ],
   "source": [
    "import pandas as pd\n",
    "import numpy as np\n",
    "from sklearn.linear_model import LogisticRegression\n",
    "from sklearn.metrics import mean_squared_error, r2_score\n",
    "\n",
    "dataset = pd.read_csv(\"glass.csv\") # importing the data from the .csv file\n",
    "dataset.sort_values('Al', inplace=True) # sort by ascending \"Al\" values\n",
    "dataset.head() # print the first 5 rows"
   ]
  },
  {
   "cell_type": "code",
   "execution_count": 25,
   "metadata": {},
   "outputs": [
    {
     "name": "stdout",
     "output_type": "stream",
     "text": [
      "[[4.795831523312719, 1], [5.0990195135927845, 0], [5.477225575051661, 3], [6.164414002968976, 2]]\n"
     ]
    }
   ],
   "source": [
    "def euclidean(a,b):\n",
    "    if len(a) != len(b):\n",
    "        return \"Lengths are unequal\"\n",
    "    else:\n",
    "        tot = 0\n",
    "    for i in range(len(a)):\n",
    "        tot += (b[i] - a[i])**2\n",
    "    ans = np.sqrt(tot)\n",
    "    return ans\n",
    "    \n",
    "#ans = euclidean([3,4,4],[0,0])\n",
    "#print(ans)\n",
    "\n",
    "#feed one point which is an array, and data which is a matrix with one row per data point and one column per attribute\n",
    "def distance(p, data, D):\n",
    "    values = []\n",
    "    text = \"\"\n",
    "    for i in range(len(data)):\n",
    "        if len(data[i]) != len(p):\n",
    "            text = \"Lengths are unequal for point\"+str(i+1)\n",
    "            return text\n",
    "        elif (len(data[i]) != D) or (len(p) != D):\n",
    "            text = \"D metric is different for point\"+str(i+1)\n",
    "            return text\n",
    "        else:\n",
    "            values.append([euclidean(p,data[i]),i]) #returns the Euclidean distance and index to data point i\n",
    "        values = sorted(values)\n",
    "    return values\n",
    "\n",
    "p = [1,2,3,4]\n",
    "data = [[0,2,0,0],[0,0,0,1],[4,0,0,0],[0,0,0,0]]\n",
    "\n",
    "ans = distance(p, data, 4)\n",
    "print(ans)\n",
    "#print(np.column_stack([p,data])) "
   ]
  },
  {
   "cell_type": "markdown",
   "metadata": {},
   "source": [
    "Split the data into training and test data:"
   ]
  },
  {
   "cell_type": "code",
   "execution_count": 26,
   "metadata": {},
   "outputs": [],
   "source": [
    "training_data = dataset.sample(frac = 0.8)\n",
    "test_data = dataset.sample(frac = 0.2)"
   ]
  },
  {
   "cell_type": "code",
   "execution_count": 27,
   "metadata": {
    "scrolled": false
   },
   "outputs": [
    {
     "data": {
      "image/png": "[encoded data removed]",
      "text/plain": [
       "<Figure size 432x288 with 1 Axes>"
      ]
     },
     "metadata": {
      "needs_background": "light"
     },
     "output_type": "display_data"
    },
    {
     "name": "stdout",
     "output_type": "stream",
     "text": [
      "*******TRAINING*******\n",
      "          RI     Na    Mg    Al     Si     K     Ca    Ba    Fe  Type\n",
      "125  1.51872  12.93  3.66  1.56  72.51  0.58   8.55  0.00  0.12     2\n",
      "97   1.51743  12.20  3.25  1.16  73.55  0.62   8.90  0.00  0.24     2\n",
      "159  1.51796  13.50  3.36  1.63  71.94  0.57   8.81  0.00  0.09     3\n",
      "154  1.51694  12.86  3.58  1.31  72.61  0.61   8.79  0.00  0.00     3\n",
      "144  1.51660  12.99  3.18  1.23  72.97  0.58   8.81  0.00  0.24     2\n",
      "101  1.51730  12.35  2.72  1.63  72.87  0.70   9.23  0.00  0.00     2\n",
      "88   1.51618  13.01  3.50  1.48  72.89  0.60   8.12  0.00  0.00     2\n",
      "57   1.51824  12.87  3.48  1.29  72.95  0.60   8.43  0.00  0.00     1\n",
      "12   1.51589  12.88  3.43  1.40  73.28  0.69   8.05  0.00  0.24     1\n",
      "137  1.51711  12.89  3.62  1.57  72.96  0.61   8.11  0.00  0.00     2\n",
      "42   1.51779  13.21  3.39  1.33  72.76  0.59   8.59  0.00  0.00     1\n",
      "28   1.51768  12.56  3.52  1.43  73.15  0.57   8.54  0.00  0.00     1\n",
      "204  1.51617  14.95  0.00  2.27  73.30  0.00   8.71  0.67  0.00     7\n",
      "108  1.52222  14.43  0.00  1.00  72.67  0.10  11.52  0.00  0.08     2\n",
      "134  1.51811  13.33  3.85  1.25  72.78  0.52   8.12  0.00  0.00     2\n",
      "208  1.51640  14.37  0.00  2.74  72.85  0.00   9.45  0.54  0.00     7\n",
      "146  1.51769  13.65  3.66  1.11  72.77  0.11   8.60  0.00  0.00     3\n",
      "201  1.51653  11.95  0.00  1.19  75.18  2.70   8.93  0.00  0.00     7\n",
      "115  1.51846  13.41  3.89  1.33  72.38  0.51   8.28  0.00  0.00     2\n",
      "36   1.51909  13.89  3.53  1.32  71.81  0.51   8.78  0.11  0.00     1\n",
      "141  1.51851  13.20  3.63  1.07  72.83  0.57   8.41  0.09  0.17     2\n",
      "200  1.51508  15.15  0.00  2.25  73.50  0.00   8.34  0.63  0.00     7\n",
      "213  1.51711  14.23  0.00  2.08  73.36  0.00   8.62  1.67  0.00     7\n",
      "189  1.52365  15.79  1.83  1.31  70.43  0.31   8.61  1.68  0.00     7\n",
      "122  1.51687  13.23  3.54  1.48  72.84  0.56   8.10  0.00  0.00     2\n",
      "67   1.52152  13.05  3.65  0.87  72.32  0.19   9.85  0.00  0.17     1\n",
      "27   1.51721  12.87  3.48  1.33  73.04  0.56   8.43  0.00  0.00     1\n",
      "19   1.51735  13.02  3.54  1.69  72.73  0.54   8.44  0.00  0.07     1\n",
      "138  1.51674  12.79  3.52  1.54  73.36  0.66   7.90  0.00  0.00     2\n",
      "31   1.51747  12.84  3.50  1.14  73.27  0.56   8.55  0.00  0.00     1\n",
      "..       ...    ...   ...   ...    ...   ...    ...   ...   ...   ...\n",
      "11   1.51763  12.80  3.66  1.27  73.01  0.60   8.56  0.00  0.00     1\n",
      "121  1.51663  12.93  3.54  1.62  72.96  0.64   8.03  0.00  0.21     2\n",
      "195  1.51545  14.14  0.00  2.68  73.39  0.08   9.07  0.61  0.05     7\n",
      "185  1.51131  13.69  3.20  1.81  72.81  1.76   5.43  1.19  0.00     7\n",
      "187  1.52315  13.44  3.34  1.23  72.38  0.60   8.83  0.00  0.00     7\n",
      "83   1.51594  13.09  3.52  1.55  72.87  0.68   8.05  0.00  0.09     2\n",
      "6    1.51743  13.30  3.60  1.14  73.09  0.58   8.17  0.00  0.00     1\n",
      "206  1.51645  14.94  0.00  1.87  73.11  0.00   8.67  1.38  0.00     7\n",
      "106  1.53125  10.73  0.00  2.10  69.81  0.58  13.30  3.15  0.28     2\n",
      "92   1.51588  13.12  3.41  1.58  73.26  0.07   8.39  0.00  0.19     2\n",
      "16   1.51784  12.68  3.67  1.16  73.11  0.61   8.70  0.00  0.00     1\n",
      "22   1.51736  12.78  3.62  1.29  72.79  0.59   8.70  0.00  0.00     1\n",
      "98   1.51689  12.67  2.88  1.71  73.21  0.73   8.54  0.00  0.00     2\n",
      "41   1.51755  12.71  3.42  1.20  73.20  0.59   8.64  0.00  0.00     1\n",
      "94   1.51629  12.71  3.33  1.49  73.28  0.67   8.24  0.00  0.00     2\n",
      "196  1.51556  13.87  0.00  2.54  73.23  0.14   9.41  0.81  0.01     7\n",
      "210  1.51685  14.92  0.00  1.99  73.06  0.00   8.40  1.59  0.00     7\n",
      "68   1.52152  13.12  3.58  0.90  72.20  0.23   9.82  0.00  0.16     1\n",
      "169  1.51994  13.27  0.00  1.76  73.03  0.47  11.32  0.00  0.00     5\n",
      "133  1.51800  13.71  3.93  1.54  71.81  0.54   8.21  0.00  0.15     2\n",
      "82   1.51646  13.41  3.55  1.25  72.81  0.68   8.10  0.00  0.00     2\n",
      "172  1.51321  13.00  0.00  3.02  70.70  6.21   6.93  0.00  0.00     5\n",
      "75   1.51590  13.02  3.58  1.51  73.12  0.69   7.96  0.00  0.00     2\n",
      "165  1.52171  11.56  1.88  1.56  72.86  0.47  11.41  0.00  0.00     5\n",
      "164  1.51915  12.73  1.85  1.86  72.69  0.60  10.09  0.00  0.00     5\n",
      "72   1.51593  13.09  3.59  1.52  73.10  0.67   7.83  0.00  0.00     2\n",
      "156  1.51655  13.41  3.39  1.28  72.64  0.52   8.65  0.00  0.00     3\n",
      "184  1.51115  17.38  0.00  0.34  75.41  0.00   6.65  0.00  0.00     6\n",
      "183  1.51969  14.56  0.00  0.56  73.48  0.00  11.22  0.00  0.00     6\n",
      "66   1.52152  13.05  3.65  0.87  72.22  0.19   9.85  0.00  0.17     1\n",
      "\n",
      "[171 rows x 10 columns]\n",
      "*******TEST*******\n",
      "          RI     Na    Mg    Al     Si     K     Ca    Ba    Fe  Type\n",
      "110  1.52664  11.23  0.00  0.77  73.21  0.00  14.68  0.00  0.00     2\n",
      "157  1.52121  14.03  3.76  0.58  71.79  0.11   9.65  0.00  0.00     3\n",
      "116  1.51829  13.24  3.90  1.41  72.33  0.55   8.31  0.00  0.10     2\n",
      "209  1.51623  14.14  0.00  2.88  72.61  0.08   9.18  1.06  0.00     7\n",
      "69   1.52300  13.31  3.58  0.82  71.99  0.12  10.17  0.00  0.03     1\n",
      "106  1.53125  10.73  0.00  2.10  69.81  0.58  13.30  3.15  0.28     2\n",
      "23   1.51751  12.81  3.57  1.35  73.02  0.62   8.59  0.00  0.00     1\n",
      "8    1.51918  14.04  3.58  1.37  72.08  0.56   8.30  0.00  0.00     1\n",
      "203  1.51658  14.80  0.00  1.99  73.11  0.00   8.28  1.71  0.00     7\n",
      "152  1.51779  13.64  3.65  0.65  73.00  0.06   8.93  0.00  0.00     3\n",
      "103  1.52725  13.80  3.15  0.66  70.57  0.08  11.64  0.00  0.00     2\n",
      "15   1.51761  12.81  3.54  1.23  73.24  0.58   8.39  0.00  0.00     1\n",
      "21   1.51966  14.77  3.75  0.29  72.02  0.03   9.00  0.00  0.00     1\n",
      "171  1.51316  13.02  0.00  3.04  70.48  6.21   6.96  0.00  0.00     5\n",
      "208  1.51640  14.37  0.00  2.74  72.85  0.00   9.45  0.54  0.00     7\n",
      "174  1.52058  12.85  1.61  2.17  72.18  0.76   9.70  0.24  0.51     5\n",
      "81   1.51593  13.25  3.45  1.43  73.17  0.61   7.86  0.00  0.00     2\n",
      "78   1.51613  13.92  3.52  1.25  72.88  0.37   7.94  0.00  0.14     2\n",
      "136  1.51806  13.00  3.80  1.08  73.07  0.56   8.38  0.00  0.12     2\n",
      "51   1.51926  13.20  3.33  1.28  72.36  0.60   9.14  0.00  0.11     1\n",
      "179  1.51852  14.09  2.19  1.66  72.67  0.00   9.32  0.00  0.00     6\n",
      "181  1.51888  14.99  0.78  1.74  72.50  0.00   9.95  0.00  0.00     6\n",
      "134  1.51811  13.33  3.85  1.25  72.78  0.52   8.12  0.00  0.00     2\n",
      "166  1.52151  11.03  1.71  1.56  73.44  0.58  11.62  0.00  0.00     5\n",
      "38   1.52213  14.21  3.82  0.47  71.77  0.11   9.57  0.00  0.00     1\n",
      "101  1.51730  12.35  2.72  1.63  72.87  0.70   9.23  0.00  0.00     2\n",
      "2    1.51618  13.53  3.55  1.54  72.99  0.39   7.78  0.00  0.00     1\n",
      "68   1.52152  13.12  3.58  0.90  72.20  0.23   9.82  0.00  0.16     1\n",
      "40   1.51793  12.79  3.50  1.12  73.03  0.64   8.77  0.00  0.00     1\n",
      "49   1.51898  13.58  3.35  1.23  72.08  0.59   8.91  0.00  0.00     1\n",
      "11   1.51763  12.80  3.66  1.27  73.01  0.60   8.56  0.00  0.00     1\n",
      "29   1.51784  13.08  3.49  1.28  72.86  0.60   8.49  0.00  0.00     1\n",
      "31   1.51747  12.84  3.50  1.14  73.27  0.56   8.55  0.00  0.00     1\n",
      "18   1.51911  13.90  3.73  1.18  72.12  0.06   8.89  0.00  0.00     1\n",
      "141  1.51851  13.20  3.63  1.07  72.83  0.57   8.41  0.09  0.17     2\n",
      "60   1.51905  13.60  3.62  1.11  72.64  0.14   8.76  0.00  0.00     1\n",
      "115  1.51846  13.41  3.89  1.33  72.38  0.51   8.28  0.00  0.00     2\n",
      "170  1.52369  13.44  0.00  1.58  72.22  0.32  12.24  0.00  0.00     5\n",
      "67   1.52152  13.05  3.65  0.87  72.32  0.19   9.85  0.00  0.17     1\n",
      "12   1.51589  12.88  3.43  1.40  73.28  0.69   8.05  0.00  0.24     1\n",
      "59   1.51754  13.39  3.66  1.19  72.79  0.57   8.27  0.00  0.11     1\n",
      "180  1.51299  14.40  1.74  1.54  74.55  0.00   7.59  0.00  0.00     6\n",
      "34   1.51783  12.69  3.54  1.34  72.95  0.57   8.75  0.00  0.00     1\n"
     ]
    }
   ],
   "source": [
    "import matplotlib.pyplot as plt\n",
    "\n",
    "colors = np.where(training_data[\"Mg\"]==0,'k','r')\n",
    "ax1 = training_data.plot.scatter(\"Mg\",\"Si\",5, c=colors)\n",
    "ax2 = test_data.plot.scatter(\"Mg\", \"Si\", 5, 'b', ax=ax1)\n",
    "plt.show()\n",
    "\n",
    "print(\"*******TRAINING*******\")\n",
    "print(training_data)\n",
    "print(\"*******TEST*******\")\n",
    "print(test_data)"
   ]
  },
  {
   "cell_type": "markdown",
   "metadata": {},
   "source": [
    "Write a function ```knn_search(p, trainingset, k)``` that returns the indices of the ```k``` closest neighbours around the point ```p```, use the ```distance``` function implemented in previous task!"
   ]
  },
  {
   "cell_type": "code",
   "execution_count": 28,
   "metadata": {},
   "outputs": [
    {
     "name": "stdout",
     "output_type": "stream",
     "text": [
      "[1, 0, 3, 2]\n"
     ]
    }
   ],
   "source": [
    "def knn_search(p, trainingset, k):\n",
    "    data = distance(p, trainingset, len(p))\n",
    "    indices = []\n",
    "    distances = []\n",
    "    for dist in data:\n",
    "        indices.append(dist[1])\n",
    "        distances.append(dist[0])\n",
    "    return indices[0:k]\n",
    "\n",
    "p = [1,2,3,4]\n",
    "data = [[0,2,0,0],[0,0,0,1],[4,0,0,0],[0,0,0,0]]\n",
    "\n",
    "ans = knn_search(p,data,4)\n",
    "print(ans)"
   ]
  },
  {
   "cell_type": "markdown",
   "metadata": {
    "colab_type": "text",
    "id": "KyWmB3cFSEEO"
   },
   "source": [
    "## 2. Implementation of logistic regression"
   ]
  },
  {
   "cell_type": "markdown",
   "metadata": {},
   "source": [
    "In order to begin, use matplotlib and numpy to plot the logistic function $\\phi(z)$ over a sufficiently long range of $z$-values to showcase its behaviour. $$\\phi(z) = \\frac{1}{1 + exp(-z)}$$\n",
    "    "
   ]
  },
  {
   "cell_type": "code",
   "execution_count": 29,
   "metadata": {},
   "outputs": [
    {
     "name": "stdout",
     "output_type": "stream",
     "text": [
      "[-8.         -7.67346939 -7.34693878 -7.02040816 -6.69387755 -6.36734694\n",
      " -6.04081633 -5.71428571 -5.3877551  -5.06122449 -4.73469388 -4.40816327\n",
      " -4.08163265 -3.75510204 -3.42857143 -3.10204082 -2.7755102  -2.44897959\n",
      " -2.12244898 -1.79591837 -1.46938776 -1.14285714 -0.81632653 -0.48979592\n",
      " -0.16326531  0.16326531  0.48979592  0.81632653  1.14285714  1.46938776\n",
      "  1.79591837  2.12244898  2.44897959  2.7755102   3.10204082  3.42857143\n",
      "  3.75510204  4.08163265  4.40816327  4.73469388  5.06122449  5.3877551\n",
      "  5.71428571  6.04081633  6.36734694  6.69387755  7.02040816  7.34693878\n",
      "  7.67346939  8.        ]\n"
     ]
    },
    {
     "data": {
      "image/png": "[encoded data removed]",
      "text/plain": [
       "<Figure size 432x288 with 1 Axes>"
      ]
     },
     "metadata": {
      "needs_background": "light"
     },
     "output_type": "display_data"
    }
   ],
   "source": [
    "x = np.linspace(-8,8,50)\n",
    "print(x)\n",
    "phi = (1)/(1+(np.exp(-x)))\n",
    "\n",
    "plt.grid()\n",
    "plt.plot(x,phi)\n",
    "plt.show()"
   ]
  },
  {
   "cell_type": "code",
   "execution_count": 30,
   "metadata": {},
   "outputs": [
    {
     "data": {
      "text/plain": [
       "<matplotlib.collections.PathCollection at 0x1a1f178048>"
      ]
     },
     "execution_count": 30,
     "metadata": {},
     "output_type": "execute_result"
    },
    {
     "data": {
      "image/png": "[encoded data removed]",
      "text/plain": [
       "<Figure size 432x288 with 1 Axes>"
      ]
     },
     "metadata": {
      "needs_background": "light"
     },
     "output_type": "display_data"
    }
   ],
   "source": [
    "#maps Types 1-3 as 0 and 5-7 as 1\n",
    "dataset['binary'] = dataset.Type.map({1:0, 2:0, 3:0, 5:1, 6:1, 7:1})\n",
    "data = np.stack((dataset[\"Al\"], np.full_like(dataset[\"Al\"],1),dataset[\"binary\"]), axis=-1)\n",
    "#Al is the x value, anything with type 1,2,3 > 0, and type 4,5,6 > 1\n",
    "df_Al_data = pd.DataFrame(columns = ['Al','const','label'])\n",
    "df_Al_data['Al'] = dataset[\"Al\"]\n",
    "df_Al_data['const'] = 1\n",
    "df_Al_data['label'] = dataset['binary']\n",
    "\n",
    "plt.grid()\n",
    "plt.xlabel('Al content')\n",
    "plt.ylabel('Type')\n",
    "plt.scatter(df_Al_data['Al'],df_Al_data['label'],5,c='black')"
   ]
  },
  {
   "cell_type": "markdown",
   "metadata": {},
   "source": [
    "Define now what the features, weights and labels are. It'll make life easier later on:"
   ]
  },
  {
   "cell_type": "code",
   "execution_count": 31,
   "metadata": {},
   "outputs": [
    {
     "data": {
      "text/plain": [
       "<matplotlib.collections.PathCollection at 0x1a1f1dd208>"
      ]
     },
     "execution_count": 31,
     "metadata": {},
     "output_type": "execute_result"
    },
    {
     "data": {
      "image/png": "[encoded data removed]",
      "text/plain": [
       "<Figure size 432x288 with 1 Axes>"
      ]
     },
     "metadata": {
      "needs_background": "light"
     },
     "output_type": "display_data"
    }
   ],
   "source": [
    "train = np.array(df_Al_data.sample(frac = 0.8))\n",
    "test = np.array(df_Al_data.sample(frac = 0.2))\n",
    "    \n",
    "X_train = train[:,0:2] #notice it's in 2 dimensions\n",
    "weights = np.transpose([[0.2, 0.5]]) #randomly chosen\n",
    "Y_train = train[:,[2]] #notice it's in 2 dimensions\n",
    "\n",
    "X_test =  test[:,0:2]\n",
    "Y_test = test[:,[2]]\n",
    "\n",
    "plt.grid()\n",
    "plt.title(\"Training data in black, test in red\")\n",
    "plt.ylabel(\"Type\")\n",
    "plt.xlabel(\"Al concentration\")\n",
    "plt.scatter(X_train[:,0],Y_train,5,c='black')\n",
    "plt.scatter(X_test[:,0],Y_test,5,c='red')"
   ]
  },
  {
   "cell_type": "code",
   "execution_count": null,
   "metadata": {},
   "outputs": [],
   "source": []
  },
  {
   "cell_type": "markdown",
   "metadata": {},
   "source": [
    "Define the sigmoid function. Then define a function that converts features (inputs) and weights into labels (outputs) through the sigmoid function."
   ]
  },
  {
   "cell_type": "code",
   "execution_count": 32,
   "metadata": {},
   "outputs": [],
   "source": [
    "def logit(z):\n",
    "    phi = (1)/(1+(np.exp(-z)))\n",
    "    return phi\n",
    "\n",
    "def predict(features,weights):\n",
    "    z = np.dot(features,weights)\n",
    "    return logit(z)\n"
   ]
  },
  {
   "cell_type": "markdown",
   "metadata": {},
   "source": [
    "Write a ```cost_function``` function to calculate the log loss or 'cost' of the predictions in comparison with the actual labels."
   ]
  },
  {
   "cell_type": "markdown",
   "metadata": {},
   "source": [
    "https://ml-cheatsheet.readthedocs.io/en/latest/_images/logistic_cost_function_vectorized.png![image.png](attachment:image.png)"
   ]
  },
  {
   "cell_type": "code",
   "execution_count": 33,
   "metadata": {},
   "outputs": [],
   "source": [
    "def cost_function(features,labels,weights):\n",
    "    datapoints = len(labels) #2000 datapoints\n",
    "    '''labels: [2000 1]'''\n",
    "    '''labels: [2000 1]'''\n",
    "    '''weights: [2 1]'''\n",
    "    '''predicted: [2000' 1]'''\n",
    "    predicted = predict(features,weights) #[2000 1]\n",
    "    \n",
    "    #error when label = 1\n",
    "    cost_1 = -labels*np.log(predicted) #should give [2000 1], 1 number for each data point\n",
    "    #error when label = 0\n",
    "    cost_2 = -((1-labels)*np.log(1-predicted)) #again, this isnot matrix multiplication\n",
    "    \n",
    "    total_cost = cost_1+cost_2\n",
    "    average_cost = np.sum(total_cost)/datapoints\n",
    "    \n",
    "    return average_cost #average_cost: [1 1]\n",
    "\n"
   ]
  },
  {
   "cell_type": "markdown",
   "metadata": {},
   "source": [
    "The good thing about the sigmoid function is that it gives a nice answer when differentiated:\n",
    "    \n",
    "    s′(z)=s(z)(1−s(z))"
   ]
  },
  {
   "cell_type": "markdown",
   "metadata": {},
   "source": [
    "And this means the cost function, when differentiated, leads to this:\n",
    "\n",
    "    C'=x(s(z)−y)"
   ]
  },
  {
   "cell_type": "markdown",
   "metadata": {},
   "source": [
    "Write a function to figure out the cost function derivative with respect to the weights, and then update the weights accordingly:"
   ]
  },
  {
   "cell_type": "code",
   "execution_count": 34,
   "metadata": {},
   "outputs": [],
   "source": [
    "def update_weights(features,labels,weights,learning_rate):\n",
    "    \"\"\" features: [2000 2] (even if the second column is just 1s, for the bias term)\n",
    "    labels: [2000 1]\n",
    "    weights: [2 1]\"\"\"\n",
    "    \n",
    "    predicted = predict(features,weights) #predicted: [2000 1]\n",
    "    N = len(features)\n",
    "    \n",
    "    cost_derivative = np.dot(features.T, (predicted - labels)) #outputs 2 by 1 matrix\n",
    "    #with the cost derivative with respect to each weight\n",
    "    \"\"\"cost_derivative = [2 1]\"\"\"\n",
    "    weights = weights - (cost_derivative/N)*learning_rate\n",
    "    return weights\n",
    "\n"
   ]
  },
  {
   "cell_type": "code",
   "execution_count": 35,
   "metadata": {},
   "outputs": [],
   "source": [
    "def decision_boundary(prob):\n",
    "    return 1 if prob >= .7 else 0\n",
    "\n",
    "decision_boundary = np.vectorize(decision_boundary)\n",
    "\n",
    "def classify(preds):\n",
    "    return decision_boundary(preds).flatten()\n"
   ]
  },
  {
   "cell_type": "code",
   "execution_count": 36,
   "metadata": {},
   "outputs": [],
   "source": [
    "def minimize(features, labels, weights, lr, iters):\n",
    "    cost_history = []\n",
    "    for i in range(iters):\n",
    "        weights = update_weights(features, labels, weights, lr)\n",
    "\n",
    "        #Calculate error for auditing purposes\n",
    "        cost = cost_function(features, labels, weights)\n",
    "        cost_history.append(cost)\n",
    "        # Log Progress\n",
    "        #if i % 1000 == 0:\n",
    "         #   print(\"iter: \"+str(i) + \" cost: \"+str(cost))\n",
    "\n",
    "    return weights, cost_history\n"
   ]
  },
  {
   "cell_type": "code",
   "execution_count": 37,
   "metadata": {},
   "outputs": [],
   "source": [
    "def accuracy(predicted_labels, actual_labels):\n",
    "    diff = predicted_labels - actual_labels\n",
    "    return 1.0 - (float(np.count_nonzero(diff)) / len(diff))"
   ]
  },
  {
   "cell_type": "code",
   "execution_count": 38,
   "metadata": {
    "scrolled": true
   },
   "outputs": [
    {
     "data": {
      "text/plain": [
       "[<matplotlib.lines.Line2D at 0x1a1f342da0>]"
      ]
     },
     "execution_count": 38,
     "metadata": {},
     "output_type": "execute_result"
    },
    {
     "data": {
      "image/png": "[encoded data removed]",
      "text/plain": [
       "<Figure size 432x288 with 1 Axes>"
      ]
     },
     "metadata": {
      "needs_background": "light"
     },
     "output_type": "display_data"
    }
   ],
   "source": [
    "fin_weights, cost_history = minimize(X_train,Y_train,weights,0.0005,10000)\n",
    "plt.plot(cost_history)\n"
   ]
  },
  {
   "cell_type": "code",
   "execution_count": 39,
   "metadata": {
    "scrolled": false
   },
   "outputs": [
    {
     "name": "stdout",
     "output_type": "stream",
     "text": [
      "Accuracy:  83.72 %\n"
     ]
    },
    {
     "data": {
      "image/png": "[encoded data removed]",
      "text/plain": [
       "<Figure size 432x288 with 1 Axes>"
      ]
     },
     "metadata": {
      "needs_background": "light"
     },
     "output_type": "display_data"
    }
   ],
   "source": [
    "\n",
    "plt.grid()\n",
    "Y_pred = predict(X_test,-fin_weights)\n",
    "Y_pred_labs = classify(Y_pred)\n",
    "\n",
    "plt.title(\"Test:black, Pred:blue, Classified:red\")\n",
    "plt.xlabel('Al concentration')\n",
    "plt.ylabel('Probability')\n",
    "\n",
    "plt.scatter(X_test[:,0],Y_test,10,c='black')\n",
    "plt.scatter(X_test[:,0],Y_pred,5,c='blue') #should be curved? Couldn't find the error.\n",
    "plt.scatter(X_test[:,0],Y_pred_labs,5,c='red')\n",
    "\n",
    "acc = accuracy(Y_pred_labs,Y_test[:,0])\n",
    "print(\"Accuracy: \", round((100*acc),2),\"%\")"
   ]
  },
  {
   "cell_type": "markdown",
   "metadata": {},
   "source": [
    "# Comparison to scikitlearn implementation"
   ]
  },
  {
   "cell_type": "code",
   "execution_count": 80,
   "metadata": {},
   "outputs": [
    {
     "name": "stdout",
     "output_type": "stream",
     "text": [
      "Accuracy:  86.05 %\n"
     ]
    },
    {
     "name": "stderr",
     "output_type": "stream",
     "text": [
      "/Users/arohan/anaconda3/lib/python3.6/site-packages/sklearn/utils/validation.py:761: DataConversionWarning: A column-vector y was passed when a 1d array was expected. Please change the shape of y to (n_samples, ), for example using ravel().\n",
      "  y = column_or_1d(y, warn=True)\n"
     ]
    },
    {
     "data": {
      "text/plain": [
       "{'C': 1.0,\n",
       " 'class_weight': None,\n",
       " 'dual': False,\n",
       " 'fit_intercept': True,\n",
       " 'intercept_scaling': 1,\n",
       " 'max_iter': 100,\n",
       " 'multi_class': 'warn',\n",
       " 'n_jobs': None,\n",
       " 'penalty': 'l2',\n",
       " 'random_state': None,\n",
       " 'solver': 'newton-cg',\n",
       " 'tol': 0.0001,\n",
       " 'verbose': 0,\n",
       " 'warm_start': False}"
      ]
     },
     "execution_count": 80,
     "metadata": {},
     "output_type": "execute_result"
    },
    {
     "data": {
      "image/png": "[encoded data removed]",
      "text/plain": [
       "<Figure size 432x288 with 1 Axes>"
      ]
     },
     "metadata": {
      "needs_background": "light"
     },
     "output_type": "display_data"
    }
   ],
   "source": [
    "X_train_2D = np.reshape(X_train[:,0],(len(X_train),1))\n",
    "X_test_2D = np.reshape(X_test[:,0],(len(X_test),1))\n",
    "\n",
    "model = LogisticRegression(penalty='l2', solver='newton-cg')\n",
    "model.fit(X_train_2D,Y_train)\n",
    "\n",
    "Y_pred_sk = model.predict(X_test_2D)\n",
    "Y_pred_prob = model.predict_proba(X_test_2D)\n",
    "\n",
    "acc = accuracy(Y_pred_sk,Y_test[:,0])\n",
    "print(\"Accuracy: \", round((100*acc),2),\"%\")\n",
    "\n",
    "plt.grid()\n",
    "plt.title(\"Test:black, Pred:blue, Classified:red\")\n",
    "plt.xlabel('Al concentration')\n",
    "plt.ylabel('Probability')\n",
    "\n",
    "plt.scatter(X_test[:,0],Y_test,10,c='black')\n",
    "plt.scatter(X_test[:,0],Y_pred_prob[:,1],5,c='blue')\n",
    "plt.scatter(X_test[:,0],Y_pred_sk,5,c='red')\n"
   ]
  },
  {
   "cell_type": "code",
   "execution_count": null,
   "metadata": {},
   "outputs": [],
   "source": []
  },
  {
   "cell_type": "code",
   "execution_count": null,
   "metadata": {},
   "outputs": [],
   "source": []
  },
  {
   "cell_type": "code",
   "execution_count": null,
   "metadata": {},
   "outputs": [],
   "source": []
  },
  {
   "cell_type": "code",
   "execution_count": null,
   "metadata": {},
   "outputs": [],
   "source": []
  }
 ],
 "metadata": {
  "kernelspec": {
   "display_name": "Python 3",
   "language": "python",
   "name": "python3"
  },
  "language_info": {
   "codemirror_mode": {
    "name": "ipython",
    "version": 3
   },
   "file_extension": ".py",
   "mimetype": "text/x-python",
   "name": "python",
   "nbconvert_exporter": "python",
   "pygments_lexer": "ipython3",
   "version": "3.6.7"
  }
 },
 "nbformat": 4,
 "nbformat_minor": 2
}
